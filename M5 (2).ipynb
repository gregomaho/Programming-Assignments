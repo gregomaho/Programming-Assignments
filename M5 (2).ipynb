{
 "cells": [
  {
   "cell_type": "code",
   "execution_count": 3,
   "id": "33d17758-c95a-4d1c-9593-192c54dd2857",
   "metadata": {},
   "outputs": [],
   "source": [
    "# Testing code\n",
    "def add(a, b):\n",
    "    return a + b\n"
   ]
  },
  {
   "cell_type": "code",
   "execution_count": 4,
   "id": "fca633b6-2b8f-4141-a80c-1c547dcffb86",
   "metadata": {},
   "outputs": [],
   "source": [
    "import unittest\n",
    "\n",
    "# test classification\n",
    "class TestAdd(unittest.TestCase):\n",
    "    \n",
    "    def test_add_integers(self):\n",
    "        self.assertEqual(add(2, 3), 5)\n",
    "\n",
    "    def test_add_floats(self):\n",
    "        self.assertAlmostEqual(add(2.5, 0.3), 2.8)\n",
    "\n",
    "    def test_add_strings(self):\n",
    "        self.assertEqual(add(\"Hello \", \"World\"), \"Hello World\")\n"
   ]
  },
  {
   "cell_type": "code",
   "execution_count": 5,
   "id": "127d9d52-f5d0-42af-aa43-4f9ab4ce0026",
   "metadata": {},
   "outputs": [
    {
     "name": "stderr",
     "output_type": "stream",
     "text": [
      "test_add_floats (__main__.TestAdd.test_add_floats) ... ok\n",
      "test_add_integers (__main__.TestAdd.test_add_integers) ... ok\n",
      "test_add_strings (__main__.TestAdd.test_add_strings) ... ok\n",
      "\n",
      "----------------------------------------------------------------------\n",
      "Ran 3 tests in 0.007s\n",
      "\n",
      "OK\n"
     ]
    },
    {
     "data": {
      "text/plain": [
       "<unittest.runner.TextTestResult run=3 errors=0 failures=0>"
      ]
     },
     "execution_count": 5,
     "metadata": {},
     "output_type": "execute_result"
    }
   ],
   "source": [
    "import unittest\n",
    "\n",
    "suite = unittest.TestLoader().loadTestsFromTestCase(TestAdd)\n",
    "unittest.TextTestRunner(verbosity=2).run(suite)\n"
   ]
  },
  {
   "cell_type": "code",
   "execution_count": 6,
   "id": "407597cb-02e2-4bab-b7ca-7cb85fe9d957",
   "metadata": {},
   "outputs": [
    {
     "name": "stderr",
     "output_type": "stream",
     "text": [
      "test_add_floats (__main__.TestAdd.test_add_floats) ... ok\n",
      "test_add_integers (__main__.TestAdd.test_add_integers) ... ok\n",
      "test_add_strings (__main__.TestAdd.test_add_strings) ... ok\n",
      "\n",
      "----------------------------------------------------------------------\n",
      "Ran 3 tests in 0.009s\n",
      "\n",
      "OK\n"
     ]
    },
    {
     "data": {
      "text/plain": [
       "<unittest.runner.TextTestResult run=3 errors=0 failures=0>"
      ]
     },
     "execution_count": 6,
     "metadata": {},
     "output_type": "execute_result"
    }
   ],
   "source": [
    "# running the test\n",
    "suite = unittest.TestLoader().loadTestsFromTestCase(TestAdd)\n",
    "unittest.TextTestRunner(verbosity=2).run(suite)\n"
   ]
  },
  {
   "cell_type": "code",
   "execution_count": null,
   "id": "f74273b9-4179-409a-bf1b-06549535709f",
   "metadata": {},
   "outputs": [],
   "source": []
  }
 ],
 "metadata": {
  "kernelspec": {
   "display_name": "Python [conda env:base] *",
   "language": "python",
   "name": "conda-base-py"
  },
  "language_info": {
   "codemirror_mode": {
    "name": "ipython",
    "version": 3
   },
   "file_extension": ".py",
   "mimetype": "text/x-python",
   "name": "python",
   "nbconvert_exporter": "python",
   "pygments_lexer": "ipython3",
   "version": "3.12.7"
  }
 },
 "nbformat": 4,
 "nbformat_minor": 5
}
