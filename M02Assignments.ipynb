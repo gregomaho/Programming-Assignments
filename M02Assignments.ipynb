{
 "cells": [
  {
   "cell_type": "code",
   "execution_count": null,
   "id": "f787c88b-514f-4ecb-bd77-b924d2dfd28a",
   "metadata": {},
   "outputs": [],
   "source": [
    "# This script prompts the user to guess a secret number and provides feedback on the guess.4.1\n",
    "secret = \"5\"\n",
    "guess = input(\"Guess the secret number: \")\n",
    "if guess < secret:\n",
    "    print(\"too low\")\n",
    "elif guess > secret:\n",
    "    print(\"too high\")\n",
    "else:\n",
    "    print(\"just right\")\n"
   ]
  },
  {
   "cell_type": "code",
   "execution_count": null,
   "id": "55cd7403-459a-4ec2-8d26-0a338778ad24",
   "metadata": {},
   "outputs": [],
   "source": [
    "# 4.2\n",
    "small = input(\"Is it small? (yes or no): \").lower() == \"yes\"\n",
    "green = input(\"Is it green? (yes or no): \").lower() == \"yes\"\n",
    "\n",
    "if small and green:\n",
    "    print(\"It's a pea.\")\n",
    "elif small and not green:\n",
    "    print(\"It's a cherry.\")\n",
    "elif not small and green:\n",
    "    print(\"It's a watermelon.\")\n",
    "else:\n",
    "    print(\"It's a pumpkin.\")\n"
   ]
  },
  {
   "cell_type": "code",
   "execution_count": null,
   "id": "8fee0ead-28ef-4422-96e4-8b914c3a17b7",
   "metadata": {},
   "outputs": [],
   "source": [
    "#6.1\n",
    "numbers = [3, 2, 1, 0]\n",
    "for num in numbers:\n",
    "    print(num)"
   ]
  },
  {
   "cell_type": "code",
   "execution_count": null,
   "id": "5ecf19c4-d1a2-4a32-b8c3-d20eb26cd039",
   "metadata": {},
   "outputs": [],
   "source": [
    "#6.2\n",
    "guess_me = 7\n",
    "number = int(input(\"Guess a number: \"))\n",
    "\n",
    "while True:\n",
    "    if number < guess_me:\n",
    "        print(\"too low\")\n",
    "    elif number == guess_me:\n",
    "        print(\"found it!\")\n",
    "        break\n",
    "    else:\n",
    "        print(\"oops\")\n",
    "        break\n",
    "    number += 1\n"
   ]
  },
  {
   "cell_type": "code",
   "execution_count": null,
   "id": "fc582fb7-9a9a-47bd-92be-16f7b3ca5438",
   "metadata": {},
   "outputs": [],
   "source": [
    "#6.3\n",
    "guess_me = 5\n",
    "input(\"Press Enter to start the guessing loop...\")\n",
    "\n",
    "for number in range(10):\n",
    "    if number < guess_me:\n",
    "        print(f\"{number} is too low\")\n",
    "    elif number == guess_me:\n",
    "        print(f\"{number} is found it!\")\n",
    "        break\n",
    "    else:\n",
    "        print(f\"{number} is oops\")\n",
    "        break\n"
   ]
  }
 ],
 "metadata": {
  "kernelspec": {
   "display_name": "Python [conda env:base] *",
   "language": "python",
   "name": "conda-base-py"
  },
  "language_info": {
   "codemirror_mode": {
    "name": "ipython",
    "version": 3
   },
   "file_extension": ".py",
   "mimetype": "text/x-python",
   "name": "python",
   "nbconvert_exporter": "python",
   "pygments_lexer": "ipython3",
   "version": "3.12.7"
  }
 },
 "nbformat": 4,
 "nbformat_minor": 5
}
