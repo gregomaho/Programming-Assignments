{
 "cells": [
  {
   "cell_type": "code",
   "execution_count": null,
   "id": "33d17758-c95a-4d1c-9593-192c54dd2857",
   "metadata": {},
   "outputs": [],
   "source": [
    "# Testing code\n",
    "def add(a, b):\n",
    "    return a + b\n"
   ]
  },
  {
   "cell_type": "code",
   "execution_count": null,
   "id": "fca633b6-2b8f-4141-a80c-1c547dcffb86",
   "metadata": {},
   "outputs": [],
   "source": [
    "import unittest\n",
    "\n",
    "# test classification\n",
    "class TestAdd(unittest.TestCase):\n",
    "    \n",
    "    def test_add_integers(self):\n",
    "        self.assertEqual(add(2, 3), 5)\n",
    "\n",
    "    def test_add_floats(self):\n",
    "        self.assertAlmostEqual(add(2.5, 0.3), 2.8)\n",
    "\n",
    "    def test_add_strings(self):\n",
    "        self.assertEqual(add(\"Hello \", \"World\"), \"Hello World\")\n"
   ]
  },
  {
   "cell_type": "code",
   "execution_count": 1,
   "id": "407597cb-02e2-4bab-b7ca-7cb85fe9d957",
   "metadata": {},
   "outputs": [
    {
     "ename": "NameError",
     "evalue": "name 'unittest' is not defined",
     "output_type": "error",
     "traceback": [
      "\u001b[1;31m---------------------------------------------------------------------------\u001b[0m",
      "\u001b[1;31mNameError\u001b[0m                                 Traceback (most recent call last)",
      "Cell \u001b[1;32mIn[1], line 2\u001b[0m\n\u001b[0;32m      1\u001b[0m \u001b[38;5;66;03m# running the test\u001b[39;00m\n\u001b[1;32m----> 2\u001b[0m suite \u001b[38;5;241m=\u001b[39m unittest\u001b[38;5;241m.\u001b[39mTestLoader()\u001b[38;5;241m.\u001b[39mloadTestsFromTestCase(TestAdd)\n\u001b[0;32m      3\u001b[0m unittest\u001b[38;5;241m.\u001b[39mTextTestRunner(verbosity\u001b[38;5;241m=\u001b[39m\u001b[38;5;241m2\u001b[39m)\u001b[38;5;241m.\u001b[39mrun(suite)\n",
      "\u001b[1;31mNameError\u001b[0m: name 'unittest' is not defined"
     ]
    }
   ],
   "source": [
    "# running the test\n",
    "suite = unittest.TestLoader().loadTestsFromTestCase(TestAdd)\n",
    "unittest.TextTestRunner(verbosity=2).run(suite)\n"
   ]
  },
  {
   "cell_type": "code",
   "execution_count": null,
   "id": "127d9d52-f5d0-42af-aa43-4f9ab4ce0026",
   "metadata": {},
   "outputs": [],
   "source": []
  }
 ],
 "metadata": {
  "kernelspec": {
   "display_name": "Python [conda env:base] *",
   "language": "python",
   "name": "conda-base-py"
  },
  "language_info": {
   "codemirror_mode": {
    "name": "ipython",
    "version": 3
   },
   "file_extension": ".py",
   "mimetype": "text/x-python",
   "name": "python",
   "nbconvert_exporter": "python",
   "pygments_lexer": "ipython3",
   "version": "3.12.7"
  }
 },
 "nbformat": 4,
 "nbformat_minor": 5
}
