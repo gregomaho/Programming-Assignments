{
 "cells": [
  {
   "cell_type": "code",
   "execution_count": null,
   "id": "8f3ee830-1fdb-4e9d-93a7-ee62b0e4db0e",
   "metadata": {},
   "outputs": [],
   "source": [
    "60 * 60\n",
    "seconds_per_hour = 60 * 60\n",
    "\n",
    "seconds_per_hour * 60\n",
    "seconds_per_day = seconds_per_hour * 60\n",
    "\n",
    "seconds_per_day / seconds_per_hour\n",
    "seconds_per_day // seconds_per_hour"
   ]
  }
 ],
 "metadata": {
  "kernelspec": {
   "display_name": "Python [conda env:base] *",
   "language": "python",
   "name": "conda-base-py"
  },
  "language_info": {
   "codemirror_mode": {
    "name": "ipython",
    "version": 3
   },
   "file_extension": ".py",
   "mimetype": "text/x-python",
   "name": "python",
   "nbconvert_exporter": "python",
   "pygments_lexer": "ipython3",
   "version": "3.12.7"
  }
 },
 "nbformat": 4,
 "nbformat_minor": 5
}
